{
  "nbformat": 4,
  "nbformat_minor": 0,
  "metadata": {
    "colab": {
      "provenance": []
    },
    "kernelspec": {
      "name": "python3",
      "display_name": "Python 3"
    },
    "language_info": {
      "name": "python"
    }
  },
  "cells": [
    {
      "cell_type": "markdown",
      "source": [
        "###1. What is the relationship between def statements and lambda expressions ?\n",
        "**Ans:** def statement is used to create a normal function. where as lamba expressions are used to create Anonymous functions. which can be assigned to a variable and can be called using the variable later in function.\n",
        "\n",
        "Lambda's body is a single expression and not a block of statements like def statement. The lambda expression's body is similar to what we'd put in a def body's return statement. We simply type the result as an expression instead of explicitly returning it. Because it is limited to an expression, a lambda is less general than a def statement."
      ],
      "metadata": {
        "id": "iR1zT-hKMSLi"
      }
    },
    {
      "cell_type": "markdown",
      "source": [
        "###2. What is the benefit of lambda?\n",
        "\n",
        "**Ans:** The following are some of the benefits of lambda expressions:\n",
        "\n",
        "  1.Can be used to create Nameless/Anonymous functions inside some complex functions if we are planning to use it only once.\n",
        "\n",
        "  2.Moderate to small functions can be created in a single line\n",
        "\n",
        "  3.Fuctions created using lambda expressions can be assigned to a variable and can be used by simply calling the variable"
      ],
      "metadata": {
        "id": "xo-o9v7uMiB7"
      }
    },
    {
      "cell_type": "markdown",
      "source": [
        "###3. Compare and contrast map, filter, and reduce.\n",
        "**Ans:** The differences between map, filter and reduce are:\n",
        "\n",
        "map(): The map() function is a type of higher-order. This function takes another function as a parameter\n",
        "\n",
        "along with a sequence of iterables and returns an output after applying the function to each iterable present in the sequence. 2. filter(): The filter() function is used to create an output list consisting of values for which the function returns true. 3. reduce(): The reduce() function, as the name describes, applies a given function to the iterables and returns a single value"
      ],
      "metadata": {
        "id": "DcvZvR7yM2pz"
      }
    },
    {
      "cell_type": "code",
      "source": [
        "from functools import reduce\n",
        "# map function\n",
        "print('Map ->',list(map(lambda x:x+x, [1,2,3,4])))\n",
        "# fitler function\n",
        "print('Filter ->',list(filter(lambda x:x%2 !=0, [1,2,3,4])))\n",
        "# reduce function\n",
        "print('Reduce ->',reduce(lambda x,y:x+y, [1,2,3,4,5,6]))"
      ],
      "metadata": {
        "colab": {
          "base_uri": "https://localhost:8080/"
        },
        "id": "2J0SpG8gNJ0j",
        "outputId": "2c39bf0a-60f6-4de0-bc4d-809285cf5286"
      },
      "execution_count": 1,
      "outputs": [
        {
          "output_type": "stream",
          "name": "stdout",
          "text": [
            "Map -> [2, 4, 6, 8]\n",
            "Filter -> [1, 3]\n",
            "Reduce -> 21\n"
          ]
        }
      ]
    },
    {
      "cell_type": "markdown",
      "source": [
        "###4. What are function annotations, and how are they used?\n",
        "**Ans:** Function annotations provide a way of associating various parts of a function with arbitrary pythoncexpressions at compile time.\n",
        "\n",
        "Annotations of simple parameters def func(x: expression, y: expression = 20):\n",
        "Whereas the annotations for excess parameters are as − def func (**args: expression, **kwargs: expression):"
      ],
      "metadata": {
        "id": "r75NUuDsNHJh"
      }
    },
    {
      "cell_type": "markdown",
      "source": [
        "###5. What are recursive functions, and how are they used?\n",
        "**Ans:** A recursive function is a function that calls itself during its execution. The process may repeat several times, outputting the result and the end of each iteration."
      ],
      "metadata": {
        "id": "LpFAAbglNVrx"
      }
    },
    {
      "cell_type": "markdown",
      "source": [
        "###6. What are some general design guidelines for coding functions?\n",
        "**Ans:** Some of the general design guidelines for coding functions are:\n",
        "\n",
        "  1.Always use a docstring to explain the functionality of the function\n",
        "\n",
        "  2.avoid using or limited use of global variables\n",
        "  \n",
        "  3.Proper Identation to increase the code readability\n",
        "  \n",
        "  4.try to follow a naming convention for function names (pascalCase or camelCase) and stick with the same convention throughout the application.\n",
        "  \n",
        "  5.Avoid using digits while choosing a variable name\n",
        "  \n",
        "  6.try to use a name for the function which conveys the purpose of the function\n",
        "  \n",
        "  7.Local variables should be named using camelCase format (ex: localVariable) whereas Global variables names should be using PascalCase (ex:GlobalVariable).\n",
        "  \n",
        "  8.Constant should be represented in allcaps (ex:CONSTANT)."
      ],
      "metadata": {
        "id": "uOKBcruZNbmx"
      }
    },
    {
      "cell_type": "markdown",
      "source": [
        "###7. Name three or more ways that functions can communicate results to a caller.\n",
        "\n",
        "**Ans:** Some of the ways in which a function can communicate with the calling function is:\n",
        "\n",
        "  1.print\n",
        "\n",
        "  2.return\n",
        "  \n",
        "  3.yield"
      ],
      "metadata": {
        "id": "SB_IO5D5N8EU"
      }
    }
  ]
}